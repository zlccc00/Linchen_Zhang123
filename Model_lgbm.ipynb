{
 "cells": [
  {
   "cell_type": "code",
   "execution_count": 1,
   "metadata": {},
   "outputs": [],
   "source": [
    "import  numpy as np\n",
    "X = np.load(\"X2.npy\")\n",
    "y = np.load(\"y2.npy\")"
   ]
  },
  {
   "cell_type": "code",
   "execution_count": null,
   "metadata": {},
   "outputs": [],
   "source": []
  },
  {
   "cell_type": "code",
   "execution_count": 2,
   "metadata": {},
   "outputs": [
    {
     "name": "stderr",
     "output_type": "stream",
     "text": [
      "/data1/tool/anaconda3/envs/tsai/lib/python3.7/site-packages/tqdm/auto.py:22: TqdmWarning: IProgress not found. Please update jupyter and ipywidgets. See https://ipywidgets.readthedocs.io/en/stable/user_install.html\n",
      "  from .autonotebook import tqdm as notebook_tqdm\n"
     ]
    },
    {
     "data": {
      "image/png": "[encoded data removed]",
      "text/plain": [
       "<Figure size 1152x36 with 1 Axes>"
      ]
     },
     "metadata": {
      "needs_background": "light"
     },
     "output_type": "display_data"
    }
   ],
   "source": [
    "from tsai.all import *\n",
    "\n",
    "splits = TimeSplitter(0.3)(y) \n",
    "\n",
    " "
   ]
  },
  {
   "cell_type": "code",
   "execution_count": 4,
   "metadata": {},
   "outputs": [],
   "source": [
    "X = X.reshape((-1,11*60))\n"
   ]
  },
  {
   "cell_type": "code",
   "execution_count": 5,
   "metadata": {},
   "outputs": [],
   "source": [
    "x_train = X[splits[0]]\n",
    "y_train = y[splits[0]]\n",
    "\n",
    "x_test = X[splits[1]]\n",
    "y_test = y[splits[1]]\n"
   ]
  },
  {
   "cell_type": "code",
   "execution_count": 6,
   "metadata": {},
   "outputs": [
    {
     "data": {
      "text/plain": [
       "LGBMClassifier()"
      ]
     },
     "execution_count": 6,
     "metadata": {},
     "output_type": "execute_result"
    }
   ],
   "source": [
    "from lightgbm.sklearn import LGBMClassifier\n",
    "clf = LGBMClassifier()\n",
    "# Train the LightGBM model on the training set\n",
    "clf.fit(x_train, y_train)"
   ]
  },
  {
   "cell_type": "code",
   "execution_count": 7,
   "metadata": {},
   "outputs": [
    {
     "name": "stdout",
     "output_type": "stream",
     "text": [
      "The accuracy of the LGBMClassifier  is: 0.938527039139528\n",
      "The recall of the LGBMClassifier  is: 0.6885192487382122\n",
      "The confusion matrix result:\n",
      " [[  733   333     9]\n",
      " [  501  2234   372]\n",
      " [    4  2073 47293]]\n"
     ]
    }
   ],
   "source": [
    "train_predict = clf.predict(x_train)\n",
    "test_predict = clf.predict(x_test)\n",
    "from sklearn import metrics\n",
    "\n",
    "\n",
    "print('The accuracy of the LGBMClassifier  is:',metrics.accuracy_score(y_test,test_predict))\n",
    "print('The recall of the LGBMClassifier  is:',metrics.recall_score(y_test,test_predict,average='macro'))\n",
    "\n",
    "## Check Confusion Matrix (statistical matrix of predicted and true values for each scenario)\n",
    "confusion_matrix_result = metrics.confusion_matrix(test_predict,y_test)\n",
    "print('The confusion matrix result:\\n',confusion_matrix_result)"
   ]
  },
  {
   "cell_type": "code",
   "execution_count": 8,
   "metadata": {},
   "outputs": [],
   "source": [
    "import pandas as pd\n",
    "\n",
    "df = pd.read_csv(\"all_model_results.csv\")\n",
    "for i in range(df.shape[0]):\n",
    "    if df['model'].values[i] == 'lgbm':\n",
    "        df.loc[i,'acc'] = metrics.accuracy_score(y_test,test_predict)\n",
    "        df.loc[i,'recall'] = metrics.recall_score(y_test,test_predict,average='macro')\n",
    "        df.loc[i,'f1'] = metrics.f1_score(y_test,test_predict,average='macro')\n",
    "        \n",
    "df.to_csv(\"all_model_results.csv\",index=False)"
   ]
  },
  {
   "cell_type": "code",
   "execution_count": null,
   "metadata": {},
   "outputs": [],
   "source": []
  },
  {
   "cell_type": "code",
   "execution_count": null,
   "metadata": {},
   "outputs": [],
   "source": []
  },
  {
   "cell_type": "code",
   "execution_count": null,
   "metadata": {},
   "outputs": [],
   "source": []
  }
 ],
 "metadata": {
  "kernelspec": {
   "display_name": "Python 3",
   "language": "python",
   "name": "python3"
  },
  "language_info": {
   "codemirror_mode": {
    "name": "ipython",
    "version": 3
   },
   "file_extension": ".py",
   "mimetype": "text/x-python",
   "name": "python",
   "nbconvert_exporter": "python",
   "pygments_lexer": "ipython3",
   "version": "3.7.3"
  },
  "vscode": {
   "interpreter": {
    "hash": "2de084dfa7af96979b088a8d3c59247b31057d81b3fa6986a303ebde9edb37e9"
   }
  }
 },
 "nbformat": 4,
 "nbformat_minor": 4
}
